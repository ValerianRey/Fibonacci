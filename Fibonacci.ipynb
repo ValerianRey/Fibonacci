{
 "cells": [
  {
   "cell_type": "markdown",
   "source": [
    "### Imports and definitions"
   ],
   "metadata": {
    "collapsed": false
   }
  },
  {
   "cell_type": "code",
   "execution_count": null,
   "outputs": [],
   "source": [
    "import numpy as np\n",
    "import math\n",
    "import matplotlib.pyplot as plt\n",
    "import struct"
   ],
   "metadata": {
    "collapsed": false,
    "pycharm": {
     "name": "#%%\n"
    }
   }
  },
  {
   "cell_type": "code",
   "execution_count": null,
   "outputs": [],
   "source": [
    "class Color:\n",
    "    PURPLE = '\\033[95m'\n",
    "    CYAN = '\\033[96m'\n",
    "    DARKCYAN = '\\033[36m'\n",
    "    BLUE = '\\033[94m'\n",
    "    GREEN = '\\033[92m'\n",
    "    YELLOW = '\\033[93m'\n",
    "    RED = '\\033[91m'\n",
    "    BOLD = '\\033[1m'\n",
    "    UNDERLINE = '\\033[4m'\n",
    "    END = '\\033[0m'"
   ],
   "metadata": {
    "collapsed": false,
    "pycharm": {
     "name": "#%%\n"
    }
   }
  },
  {
   "cell_type": "markdown",
   "source": [
    "### Fibonacci Sequence"
   ],
   "metadata": {
    "collapsed": false
   }
  },
  {
   "cell_type": "code",
   "execution_count": null,
   "outputs": [],
   "source": [
    "N = 8"
   ],
   "metadata": {
    "collapsed": false,
    "pycharm": {
     "name": "#%%\n"
    }
   }
  },
  {
   "cell_type": "code",
   "execution_count": null,
   "outputs": [],
   "source": [
    "# Print the first N Fibonacci numbers\n",
    "fib_0 = 0\n",
    "fib_1 = 1\n",
    "print(str(fib_0) + '\\n' + str((fib_1)))\n",
    "for i in range(N):\n",
    "    tmp = fib_1\n",
    "    fib_1 = fib_0 + fib_1\n",
    "    fib_0 = tmp\n",
    "    print(fib_1)"
   ],
   "metadata": {
    "collapsed": false,
    "pycharm": {
     "name": "#%%\n"
    }
   }
  },
  {
   "cell_type": "code",
   "execution_count": null,
   "outputs": [],
   "source": [
    "# Generate the list of the first N Fibonacci numbers\n",
    "fib = [0, 1]\n",
    "for i in range(N):\n",
    "    fib.append(fib[-1] + fib[-2])\n",
    "\n",
    "print(fib)"
   ],
   "metadata": {
    "collapsed": false,
    "pycharm": {
     "name": "#%%\n"
    }
   }
  },
  {
   "cell_type": "markdown",
   "source": [
    "### Integer Fibonacci coding"
   ],
   "metadata": {
    "collapsed": false
   }
  },
  {
   "cell_type": "code",
   "execution_count": null,
   "outputs": [],
   "source": [
    "N = 5000\n",
    "\n",
    "values = []\n",
    "codewords = []\n",
    "\n",
    "last_valid_value = 0\n",
    "last_valid_bits = ['0']\n",
    "\n",
    "for i in range(N):\n",
    "    \n",
    "    bits = list(bin(i))[2:]\n",
    "    count = 0\n",
    "    keep = True\n",
    "    for j in range(len(bits)):\n",
    "        if bits[j] == '1':\n",
    "            count += 1\n",
    "            if count >= 2:\n",
    "                keep = False\n",
    "                break\n",
    "        else:\n",
    "            count = 0\n",
    "    if keep:\n",
    "        last_valid_value = i\n",
    "        last_valid_bits = bits\n",
    "        \n",
    "    values.append(last_valid_value) # If a value is not fibonacci-valid we use the last fibonacci-valid value instead\n",
    "    codewords.append(''.join(last_valid_bits))"
   ],
   "metadata": {
    "collapsed": false,
    "pycharm": {
     "name": "#%%\n"
    }
   }
  },
  {
   "cell_type": "code",
   "execution_count": null,
   "outputs": [],
   "source": [
    "fig = plt.figure(figsize=(20,10))\n",
    "fig.suptitle(\"Fibonacci codings of the \" + repr(N) + \" first integers (rounded down)\", fontsize=20)\n",
    "plt.plot(list(range(N)), values)\n",
    "plt.show()"
   ],
   "metadata": {
    "collapsed": false,
    "pycharm": {
     "name": "#%%\n"
    }
   }
  },
  {
   "cell_type": "code",
   "execution_count": null,
   "outputs": [],
   "source": [
    "N = 5000\n",
    "\n",
    "values = []\n",
    "codewords = []\n",
    "\n",
    "last_valid_value = 0\n",
    "last_valid_bits = ['0']\n",
    "count_not_keep = 0\n",
    "\n",
    "for i in range(N):\n",
    "    \n",
    "    bits = list(bin(i))[2:]\n",
    "    count = 0\n",
    "    keep = True\n",
    "    for j in range(len(bits)):\n",
    "        if bits[j] == '1':\n",
    "            count += 1\n",
    "            if count >= 2:\n",
    "                keep = False\n",
    "                break\n",
    "        else:\n",
    "            count = 0\n",
    "    if keep:\n",
    "        last_valid_value = i\n",
    "        last_valid_bits = bits\n",
    "        # Change the previous fibonacci-valid values so that they are closer to their actual value\n",
    "        for j in range(i - (math.floor(count_not_keep/2)), i):\n",
    "            values[j] = last_valid_value\n",
    "            codewords[j] = ''.join(last_valid_bits)\n",
    "        count_not_keep = 0\n",
    "        \n",
    "    else:\n",
    "        count_not_keep += 1\n",
    "        \n",
    "    values.append(last_valid_value)\n",
    "    codewords.append(''.join(last_valid_bits))"
   ],
   "metadata": {
    "collapsed": false,
    "pycharm": {
     "name": "#%%\n"
    }
   }
  },
  {
   "cell_type": "code",
   "execution_count": null,
   "outputs": [],
   "source": [
    "fig = plt.figure(figsize=(20,10))\n",
    "fig.suptitle(\"Fibonacci codings of the \" + repr(N) + \" first integers (rounded to the closest)\", fontsize=20)\n",
    "plt.plot(list(range(N)), values)\n",
    "plt.show()"
   ],
   "metadata": {
    "collapsed": false,
    "pycharm": {
     "name": "#%%\n"
    }
   }
  },
  {
   "cell_type": "markdown",
   "source": [
    "### Floating-point (numpy.float32) Fibonacci coding"
   ],
   "metadata": {
    "collapsed": false
   }
  },
  {
   "cell_type": "code",
   "execution_count": null,
   "outputs": [],
   "source": [
    "print(\"Full precision value = %1.52f\" % 2.432);\n",
    "print(\"Full precision value = %1.52f\" % np.float32(2.432))"
   ],
   "metadata": {
    "collapsed": false,
    "pycharm": {
     "name": "#%%\n"
    }
   }
  },
  {
   "cell_type": "markdown",
   "source": [
    "As we can see python has 64-bits precision for float type numbers. In this section we will use np.float32 numbers instead."
   ],
   "metadata": {
    "collapsed": false
   }
  },
  {
   "cell_type": "code",
   "execution_count": null,
   "outputs": [],
   "source": [
    "# Gives the 32-bit floating point representation of a number in native python float type (64-bits)\n",
    "def f32(num):\n",
    "    return np.float32(num)"
   ],
   "metadata": {
    "collapsed": false,
    "pycharm": {
     "name": "#%%\n"
    }
   }
  },
  {
   "cell_type": "code",
   "execution_count": null,
   "outputs": [],
   "source": [
    "# Gives the binary value of a floating point number as a string\n",
    "def binary(num):\n",
    "    return ''.join(bin(c).replace('0b', '').rjust(8, '0') for c in struct.pack('!f', num))"
   ],
   "metadata": {
    "collapsed": false,
    "pycharm": {
     "name": "#%%\n"
    }
   }
  },
  {
   "cell_type": "code",
   "execution_count": null,
   "outputs": [],
   "source": [
    "# Tests of the binary function, the binary value on the right was obtained using an online float-to-binary converter\n",
    "assert(binary(f32(0.)) == '00000000000000000000000000000000')\n",
    "assert(binary(f32(2.432)) == '01000000000110111010010111100011')\n",
    "assert(binary(f32(-2.432)) == '11000000000110111010010111100011')\n",
    "assert(binary(f32(-3.4028235E38)) == '11111111011111111111111111111111')\n",
    "assert(binary(f32(3.4028235E38)) == '01111111011111111111111111111111')\n",
    "assert(binary(f32(1.4E-45)) == '00000000000000000000000000000001')\n",
    "assert(binary(f32(-0.0)) == '10000000000000000000000000000000')\n",
    "print(\"Tests passed!\")"
   ],
   "metadata": {
    "collapsed": false,
    "pycharm": {
     "name": "#%%\n"
    }
   }
  },
  {
   "cell_type": "code",
   "execution_count": null,
   "outputs": [],
   "source": [
    "# Gives the floating point number from its binary string\n",
    "def float_from_bin(code):\n",
    "    return f32(struct.unpack('f', struct.pack('I', int(code, 2)))[0])"
   ],
   "metadata": {
    "collapsed": false,
    "pycharm": {
     "name": "#%%\n"
    }
   }
  },
  {
   "cell_type": "code",
   "execution_count": null,
   "outputs": [],
   "source": [
    "# Tests of the float_from_bin function\n",
    "assert(float_from_bin('00000000000000000000000000000000') == f32(0.0))\n",
    "assert(float_from_bin('01000000000110111010010111100011') == f32(2.432))\n",
    "assert(float_from_bin('11000000000110111010010111100011') == f32(-2.432))\n",
    "assert(float_from_bin('11111111011111111111111111111111') == f32(-3.4028235E38))\n",
    "assert(float_from_bin('01111111011111111111111111111111') == f32(3.4028235E38))\n",
    "assert(float_from_bin('00000000000000000000000000000001') == f32(1.4E-45))\n",
    "assert(float_from_bin('10000000000000000000000000000000') == f32(-0.0))\n",
    "print(\"Tests passed!\")"
   ],
   "metadata": {
    "collapsed": false,
    "pycharm": {
     "name": "#%%\n"
    }
   }
  },
  {
   "cell_type": "code",
   "execution_count": null,
   "outputs": [],
   "source": [
    "# This version only rounds down, need to check if rounding up is better\n",
    "# Rounding up will give other extreme cases to take care of:\n",
    "# The exponent part could overflow to the sign part, the mantissa could overflow to the exponent part, the sign could overflow\n",
    "\n",
    "# Gives the Fibonacci-valid float-32 number that is the closest to our float-32 number 'num'\n",
    "def fib_code(num):\n",
    "    code = list(binary(num))\n",
    "    count = 0\n",
    "    for i in range(len(code)):\n",
    "        if code[i] == '1':\n",
    "            count += 1\n",
    "            if count >= 2:\n",
    "                code[i] = '0' # Remove the problem\n",
    "                # Then we need to make the number as big as possible by placing only 10101010101... until the end of the floating point representation\n",
    "                one_next = True\n",
    "                for j in range(i+1, len(code)):\n",
    "                    if one_next:\n",
    "                        code[j] = '1'\n",
    "                        one_next = False\n",
    "                    else:\n",
    "                        code[j] = '0'\n",
    "                        one_next = True\n",
    "                break\n",
    "        else:\n",
    "            count = 0\n",
    "\n",
    "    code = ''.join(code)\n",
    "    return float_from_bin(code)"
   ],
   "metadata": {
    "collapsed": false,
    "pycharm": {
     "name": "#%%\n"
    }
   }
  },
  {
   "cell_type": "markdown",
   "source": [
    "### Testing and current problems"
   ],
   "metadata": {
    "collapsed": false
   }
  },
  {
   "cell_type": "code",
   "execution_count": null,
   "outputs": [],
   "source": [
    "# Test with a few values\n",
    "numbers = [2.432, 1239481231., 1230412.3210312, 312319., math.pow(2, 17), math.pow(2, 16), 123456.123456, 123.123, 987.987,\n",
    "          2.2737368E-13, 1.0, 0.0, -2.432, -0.0, -2131231.0, -0.000012391, -1.6434601E-32]\n",
    "column = 20\n",
    "\n",
    "print(Color.BLUE + Color.BOLD + \"Number\".ljust(column) + \"Fib down\\n\".ljust(column) + Color.END)\n",
    "\n",
    "for n in numbers:\n",
    "    print((repr(n)).ljust(column) + repr(fib_code(n)).ljust(column))"
   ],
   "metadata": {
    "collapsed": false,
    "pycharm": {
     "name": "#%%\n"
    }
   }
  },
  {
   "cell_type": "code",
   "execution_count": null,
   "outputs": [],
   "source": [
    "abs(math.pow(2, 32) - math.pow(2,33))"
   ],
   "metadata": {
    "collapsed": false,
    "pycharm": {
     "name": "#%%\n"
    }
   }
  },
  {
   "cell_type": "code",
   "execution_count": null,
   "outputs": [],
   "source": [
    "abs(math.pow(2, 32) - 5592405)"
   ],
   "metadata": {
    "collapsed": false,
    "pycharm": {
     "name": "#%%\n"
    }
   }
  },
  {
   "cell_type": "markdown",
   "source": [
    "So the Fibonacci-valid number to 2^32 is 5592405 and not 2^33\n",
    "\n",
    "Also the smallest Fibonacci-valid number is -3.0316488E-13 (which is very close to zero).\n",
    "This is because we cannot get a positive exponent for negative numbers (because of the leading one)."
   ],
   "metadata": {
    "collapsed": false
   }
  },
  {
   "cell_type": "markdown",
   "source": [
    "### Integer (numpy.int32) Fibonacci coding"
   ],
   "metadata": {
    "collapsed": false
   }
  },
  {
   "cell_type": "code",
   "execution_count": null,
   "outputs": [],
   "source": [
    "def binary_int(num, bits=32):\n",
    "    code = bin(num)[2:]\n",
    "    if len(code) > bits:\n",
    "        print(\"ERROR: num needs more bits\")\n",
    "        return '0' * bits\n",
    "    else:\n",
    "        return '0' * (bits-len(code)) + code"
   ],
   "metadata": {
    "collapsed": false,
    "pycharm": {
     "name": "#%%\n"
    }
   }
  },
  {
   "cell_type": "code",
   "execution_count": null,
   "outputs": [],
   "source": [
    "def int_from_bin(code):\n",
    "    return int(code, 2)"
   ],
   "metadata": {
    "collapsed": false,
    "pycharm": {
     "name": "#%%\n"
    }
   }
  },
  {
   "cell_type": "code",
   "execution_count": null,
   "outputs": [],
   "source": [
    "# Gives the Fibonacci-valid int number that is the closest (down) to our int number 'num'\n",
    "def fib_code_int_down(num, bits=32):\n",
    "    code = list(binary_int(num, bits))\n",
    "    count = 0\n",
    "    for i in range(len(code)):\n",
    "        if code[i] == '1':\n",
    "            count += 1\n",
    "            if count >= 2:\n",
    "                code[i] = '0' # Remove the problem\n",
    "                # Then we need to make the number as big as possible by placing only 10101010101... until the end of the floating point representation\n",
    "                one_next = True\n",
    "                for j in range(i+1, len(code)):\n",
    "                    if one_next:\n",
    "                        code[j] = '1'\n",
    "                        one_next = False\n",
    "                    else:\n",
    "                        code[j] = '0'\n",
    "                        one_next = True\n",
    "                break\n",
    "        else:\n",
    "            count = 0\n",
    "\n",
    "    code = ''.join(code)\n",
    "    return int_from_bin(code)"
   ],
   "metadata": {
    "collapsed": false,
    "pycharm": {
     "name": "#%%\n"
    }
   }
  },
  {
   "cell_type": "code",
   "execution_count": null,
   "outputs": [],
   "source": [
    "# Gives the Fibonacci-valid int number that is the closest (up) to our int number 'num'\n",
    "def fib_code_int_up(num, bits=32):\n",
    "    code = list(binary_int(num, bits))\n",
    "    count = 0\n",
    "    for i in range(len(code)):\n",
    "        if code[i] == '1':\n",
    "            count += 1\n",
    "            if count >= 2:\n",
    "\n",
    "                one_next = True\n",
    "                for j in range(i-2, -1, -1):\n",
    "                    if one_next:\n",
    "                        code[j] = '1'\n",
    "                        one_next = False\n",
    "                    else:\n",
    "                        code[j] = '0'\n",
    "                        one_next = True\n",
    "                    if j > 0 and code[j-1] == '0':\n",
    "                        break;\n",
    "                \n",
    "                i -= 1\n",
    "                while i < len(code):\n",
    "                    code[i] = '0' # Remove the problem (and all subsequent problems on the right)\n",
    "                    i += 1\n",
    "                break\n",
    "                                \n",
    "        else:\n",
    "            count = 0\n",
    "\n",
    "    code = ''.join(code)\n",
    "    return int_from_bin(code)"
   ],
   "metadata": {
    "collapsed": false,
    "pycharm": {
     "name": "#%%\n"
    }
   }
  },
  {
   "cell_type": "code",
   "execution_count": null,
   "outputs": [],
   "source": [
    "# Gives the best Fibonacci-valid int approximation for 'num'\n",
    "def fib_code_int(num, bits=32):\n",
    "    down = fib_code_int_down(num, bits)\n",
    "    up = fib_code_int_up(num, bits)\n",
    "    dist_down = abs(num - down)\n",
    "    dist_up = abs(num - up)\n",
    "    if dist_down < dist_up:\n",
    "        return down\n",
    "    else:\n",
    "        return up"
   ],
   "metadata": {
    "collapsed": false,
    "pycharm": {
     "name": "#%%\n"
    }
   }
  },
  {
   "cell_type": "markdown",
   "source": [
    "### Testing and problems"
   ],
   "metadata": {
    "collapsed": false
   }
  },
  {
   "cell_type": "code",
   "execution_count": null,
   "outputs": [],
   "source": [
    "# 32 bits\n",
    "numbers = [0, 1, 2, 3, 4, 5, 6, 7, 8, 9, 10, 100, 1000, 2731, 4000, 4095, 4096, 123456]\n",
    "column = 10\n",
    "\n",
    "print(Color.BLUE + Color.BOLD + \"Number\".ljust(column) + \"Fib down\".ljust(column) + \"Fib up\".ljust(column) + \"Best Fib\\n\".ljust(column) + Color.END)\n",
    "\n",
    "for n in numbers:\n",
    "    print((repr(n)).ljust(column) + repr(fib_code_int_down(n)).ljust(column) + repr(fib_code_int_up(n)).ljust(column) + repr(fib_code_int(n)).ljust(column))"
   ],
   "metadata": {
    "collapsed": false,
    "pycharm": {
     "name": "#%%\n"
    }
   }
  },
  {
   "cell_type": "markdown",
   "source": [
    "It does not work yet with negative numbers. Negative numbers would get very very bad Fibonnaci quantizations given how the 2s complement works in binary."
   ],
   "metadata": {
    "collapsed": false
   }
  },
  {
   "cell_type": "code",
   "execution_count": null,
   "outputs": [],
   "source": [
    "# 8 bits\n",
    "numbers = [0, 1, 2, 3, 4, 5, 6, 7, 8, 9, 10, 100, 125, 180, 240, 255]\n",
    "column = 10\n",
    "bits = 8\n",
    "\n",
    "print(Color.BLUE + Color.BOLD + \"Number\".ljust(column) + \"Fib down\".ljust(column) + \"Fib up\".ljust(column) + \"Best Fib\\n\".ljust(column) + Color.END)\n",
    "\n",
    "for n in numbers:\n",
    "    print((repr(n)).ljust(column) + repr(fib_code_int_down(n, bits=bits)).ljust(column) + repr(fib_code_int_up(n, bits=bits)).ljust(column) + repr(fib_code_int(n, bits=bits)).ljust(column))"
   ],
   "metadata": {
    "collapsed": false,
    "pycharm": {
     "name": "#%%\n"
    }
   }
  }
 ],
 "metadata": {
  "kernelspec": {
   "display_name": "Python 3",
   "language": "python",
   "name": "python3"
  },
  "language_info": {
   "codemirror_mode": {
    "name": "ipython",
    "version": 3
   },
   "file_extension": ".py",
   "mimetype": "text/x-python",
   "name": "python",
   "nbconvert_exporter": "python",
   "pygments_lexer": "ipython3",
   "version": "3.6.7"
  }
 },
 "nbformat": 4,
 "nbformat_minor": 2
}